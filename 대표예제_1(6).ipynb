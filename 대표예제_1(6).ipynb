{
  "nbformat": 4,
  "nbformat_minor": 0,
  "metadata": {
    "colab": {
      "provenance": [],
      "authorship_tag": "ABX9TyOVCa7uGvdSQFhiYXIfeLNc",
      "include_colab_link": true
    },
    "kernelspec": {
      "name": "python3",
      "display_name": "Python 3"
    },
    "language_info": {
      "name": "python"
    }
  },
  "cells": [
    {
      "cell_type": "markdown",
      "metadata": {
        "id": "view-in-github",
        "colab_type": "text"
      },
      "source": [
        "<a href=\"https://colab.research.google.com/github/Yunsehyuk/SKKU/blob/main/%EB%8C%80%ED%91%9C%EC%98%88%EC%A0%9C_1(6).ipynb\" target=\"_parent\"><img src=\"https://colab.research.google.com/assets/colab-badge.svg\" alt=\"Open In Colab\"/></a>"
      ]
    },
    {
      "cell_type": "code",
      "execution_count": null,
      "metadata": {
        "id": "KZrLSoXJPbFp"
      },
      "outputs": [],
      "source": [
        "X_new=np.array{[5,2,9,1,0,2]}\n",
        "print(X_new.shape)\n",
        "\n",
        "prediction=knn.prediction(X_new)\n",
        "print(\"prediction result\",prediction)\n",
        "print(\"target name of prediction result\",iris_dataset['target_names'][prediction])"
      ]
    }
  ]
}