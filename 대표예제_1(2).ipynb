{
  "nbformat": 4,
  "nbformat_minor": 0,
  "metadata": {
    "colab": {
      "provenance": [],
      "authorship_tag": "ABX9TyPRvGF93A9unsW5usaW/MMA",
      "include_colab_link": true
    },
    "kernelspec": {
      "name": "python3",
      "display_name": "Python 3"
    },
    "language_info": {
      "name": "python"
    }
  },
  "cells": [
    {
      "cell_type": "markdown",
      "metadata": {
        "id": "view-in-github",
        "colab_type": "text"
      },
      "source": [
        "<a href=\"https://colab.research.google.com/github/Yunsehyuk/SKKU/blob/main/%EB%8C%80%ED%91%9C%EC%98%88%EC%A0%9C_1(2).ipynb\" target=\"_parent\"><img src=\"https://colab.research.google.com/assets/colab-badge.svg\" alt=\"Open In Colab\"/></a>"
      ]
    },
    {
      "cell_type": "code",
      "execution_count": null,
      "metadata": {
        "id": "S9J4j-hizrF2"
      },
      "outputs": [],
      "source": [
        "from sklearn.model_selection import train_test_split\n",
        "X_train, X_test, y_train, y_test = train_test_split(iris_dataset['data'], iris dataset['target'], random_state=0)\n",
        "import mglearn\n",
        "iris_dataframe=pd.DataFrame(X_train, columns=iris_dataset.features_names)\n",
        "pd.plotting.scatter_matrix(iris_dataframe, c=y_train, figsize(15,15), marker='o',hist_kwds={'bins':20},s=60 alpha=.8,cmap=mglearn.cm3)\n"
      ]
    }
  ]
}