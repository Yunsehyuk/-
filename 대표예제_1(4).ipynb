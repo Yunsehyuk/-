{
  "nbformat": 4,
  "nbformat_minor": 0,
  "metadata": {
    "colab": {
      "provenance": [],
      "authorship_tag": "ABX9TyPMlW38Y1g2NZwigLjF9i59",
      "include_colab_link": true
    },
    "kernelspec": {
      "name": "python3",
      "display_name": "Python 3"
    },
    "language_info": {
      "name": "python"
    }
  },
  "cells": [
    {
      "cell_type": "markdown",
      "metadata": {
        "id": "view-in-github",
        "colab_type": "text"
      },
      "source": [
        "<a href=\"https://colab.research.google.com/github/Yunsehyuk/SKKU/blob/main/%EB%8C%80%ED%91%9C%EC%98%88%EC%A0%9C_1(4).ipynb\" target=\"_parent\"><img src=\"https://colab.research.google.com/assets/colab-badge.svg\" alt=\"Open In Colab\"/></a>"
      ]
    },
    {
      "cell_type": "code",
      "execution_count": null,
      "metadata": {
        "id": "nkYA7kLnNbtt"
      },
      "outputs": [],
      "source": [
        "from sklearn.neighbors import kNeighborsClassifier\n",
        "knn=kNeighborsClassifier(n_neighbors=1)\n",
        "knn.fit(X_train, y_train)"
      ]
    }
  ]
}