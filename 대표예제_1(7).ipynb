{
  "nbformat": 4,
  "nbformat_minor": 0,
  "metadata": {
    "colab": {
      "provenance": [],
      "authorship_tag": "ABX9TyNDtz4SvJfZESmLvbD4o//2",
      "include_colab_link": true
    },
    "kernelspec": {
      "name": "python3",
      "display_name": "Python 3"
    },
    "language_info": {
      "name": "python"
    }
  },
  "cells": [
    {
      "cell_type": "markdown",
      "metadata": {
        "id": "view-in-github",
        "colab_type": "text"
      },
      "source": [
        "<a href=\"https://colab.research.google.com/github/Yunsehyuk/SKKU/blob/main/%EB%8C%80%ED%91%9C%EC%98%88%EC%A0%9C_1(7).ipynb\" target=\"_parent\"><img src=\"https://colab.research.google.com/assets/colab-badge.svg\" alt=\"Open In Colab\"/></a>"
      ]
    },
    {
      "cell_type": "code",
      "execution_count": null,
      "metadata": {
        "id": "dza4Z9h7Q-6N"
      },
      "outputs": [],
      "source": [
        "y_pred=knn.predict(X_test)\n",
        "print(\"prediction result of test dataset\", y_pred)\n",
        "print(\"테스트 세트의 정확도: {:.2f}\".format(np.mean(y_pred==y_test)))\n",
        "print(\"테스트 세트의 정확도: {:.2f}\".format(knn.sco re(X_test,y_test)))"
      ]
    }
  ]
}